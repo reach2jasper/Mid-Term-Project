{
 "cells": [
  {
   "cell_type": "code",
   "execution_count": 1,
   "metadata": {},
   "outputs": [],
   "source": [
    "import pandas as pd\n",
    "import numpy as np\n",
    "pd.set_option('display.max_columns', None)"
   ]
  },
  {
   "cell_type": "code",
   "execution_count": 2,
   "metadata": {},
   "outputs": [],
   "source": [
    "data=pd.read_csv(\"2007.csv\")"
   ]
  },
  {
   "cell_type": "code",
   "execution_count": 3,
   "metadata": {},
   "outputs": [
    {
     "data": {
      "text/plain": [
       "(7453215, 29)"
      ]
     },
     "execution_count": 3,
     "metadata": {},
     "output_type": "execute_result"
    }
   ],
   "source": [
    "data.shape"
   ]
  },
  {
   "cell_type": "code",
   "execution_count": 4,
   "metadata": {},
   "outputs": [],
   "source": [
    "#Variable descriptions:\n",
    "#1 Year 1987-2008 \n",
    "#2 Month 1-12\n",
    "#3 DayofMonth 1-31\n",
    "#4 DayOfWeek 1 (Monday) - 7 (Sunday) \n",
    "#5 DepTime actual departure time (local, hhm m)\n",
    "#6 CRSDepTime scheduled departure time (local, hhmm)\n",
    "#7 ArrTime actual arrival time (local, hhmm) \n",
    "#8 CRSArrTime scheduled arrival time (local, hhmm)\n",
    "#9 UniqueCarrier unique carrier code \n",
    "#10 FlightNum flight number \n",
    "#11 TailNum plane tail number \n",
    "#12 ActualElapsedTime in minutes \n",
    "#13 CRSElapsedTime in minutes \n",
    "#14 AirTime in minutes \n",
    "#15 ArrDelay arrival delay, in minutes \n",
    "#16 DepDelay departure delay, in minutes\n",
    "#17 Origin origin IATA airport code \n",
    "#18 Dest des tination IATA airport code \n",
    "#19 Distance in miles\n",
    "#20 TaxiIn taxi in time, in minutes \n",
    "#21 TaxiOut taxi out time in minutes\n",
    "#22 Cancelled was the flight cancelled?\n",
    "#23 CancellationCode reason for cancellation (A = carrier, B = weather, C = NAS, D = security) \n",
    "#24 Diverted 1 = yes, 0 = no \n",
    "#25 CarrierDelay in minutes \n",
    "#26 WeatherDelay in minutes \n",
    "#27 NASDelay in minutes \n",
    "#28 SecurityDelay in minutes \n",
    "#29 LateAircraftDelay in minutes"
   ]
  },
  {
   "cell_type": "code",
   "execution_count": 5,
   "metadata": {},
   "outputs": [
    {
     "data": {
      "text/plain": [
       "Year                       0\n",
       "Month                      0\n",
       "DayofMonth                 0\n",
       "DayOfWeek                  0\n",
       "DepTime               160748\n",
       "CRSDepTime                 0\n",
       "ArrTime               177927\n",
       "CRSArrTime                 0\n",
       "UniqueCarrier              0\n",
       "FlightNum                  0\n",
       "TailNum                   22\n",
       "ActualElapsedTime     177927\n",
       "CRSElapsedTime           994\n",
       "AirTime               177927\n",
       "ArrDelay              177927\n",
       "DepDelay              160748\n",
       "Origin                     0\n",
       "Dest                       0\n",
       "Distance                   0\n",
       "TaxiIn                     0\n",
       "TaxiOut                    0\n",
       "Cancelled                  0\n",
       "CancellationCode     7292466\n",
       "Diverted                   0\n",
       "CarrierDelay               0\n",
       "WeatherDelay               0\n",
       "NASDelay                   0\n",
       "SecurityDelay              0\n",
       "LateAircraftDelay          0\n",
       "dtype: int64"
      ]
     },
     "execution_count": 5,
     "metadata": {},
     "output_type": "execute_result"
    }
   ],
   "source": [
    "#Checking for null values\n",
    "data.isna().sum()"
   ]
  },
  {
   "cell_type": "code",
   "execution_count": 6,
   "metadata": {},
   "outputs": [
    {
     "data": {
      "text/plain": [
       "NaN    7292466\n",
       "A        66779\n",
       "B        61936\n",
       "C        31995\n",
       "D           39\n",
       "Name: CancellationCode, dtype: int64"
      ]
     },
     "execution_count": 6,
     "metadata": {},
     "output_type": "execute_result"
    }
   ],
   "source": [
    "data[\"CancellationCode\"].value_counts(dropna=False)"
   ]
  },
  {
   "cell_type": "code",
   "execution_count": 7,
   "metadata": {},
   "outputs": [],
   "source": [
    "# filtering out unnecessary columns\n",
    "# flights_needed_data=flights_needed_data.drop(['Year','FLIGHT_NUMBER','AIRLINE','DISTANCE','TAIL_NUMBER','TAXI_OUT',\n",
    "#                                               'SCHEDULED_TIME','DEPARTURE_TIME','WHEELS_OFF','ELAPSED_TIME',\n",
    "#                                               'AIR_TIME','WHEELS_ON','DAY_OF_WEEK','TAXI_IN','CANCELLATION_REASON'],\n",
    "#                                              axis=1)"
   ]
  },
  {
   "cell_type": "code",
   "execution_count": 8,
   "metadata": {},
   "outputs": [],
   "source": [
    "#Dealing with NaN values"
   ]
  },
  {
   "cell_type": "code",
   "execution_count": 9,
   "metadata": {},
   "outputs": [],
   "source": [
    "# 2. (CarrierDelay\tWeatherDelay NASDelay\tSecurityDelay\tLateAircraftDelay) bar chart\n",
    "# 3. (Distance vs Arrival Delay)\n",
    "# 4. (Which airlines contribute more delay)\n",
    "# 5. Contributions of each airline\n",
    "# 6. Which day of the week the flight delays are minimum?\n",
    "# 1. Predict ArrDelay (ML)\n"
   ]
  },
  {
   "cell_type": "code",
   "execution_count": 10,
   "metadata": {},
   "outputs": [],
   "source": [
    "#Deleting unnecessary columns\n",
    "data=data.drop(['CancellationCode','Cancelled'],axis=1)\n"
   ]
  },
  {
   "cell_type": "code",
   "execution_count": 11,
   "metadata": {},
   "outputs": [
    {
     "data": {
      "text/plain": [
       "Year                      0\n",
       "Month                     0\n",
       "DayofMonth                0\n",
       "DayOfWeek                 0\n",
       "DepTime              160748\n",
       "CRSDepTime                0\n",
       "ArrTime              177927\n",
       "CRSArrTime                0\n",
       "UniqueCarrier             0\n",
       "FlightNum                 0\n",
       "TailNum                  22\n",
       "ActualElapsedTime    177927\n",
       "CRSElapsedTime          994\n",
       "AirTime              177927\n",
       "ArrDelay             177927\n",
       "DepDelay             160748\n",
       "Origin                    0\n",
       "Dest                      0\n",
       "Distance                  0\n",
       "TaxiIn                    0\n",
       "TaxiOut                   0\n",
       "Diverted                  0\n",
       "CarrierDelay              0\n",
       "WeatherDelay              0\n",
       "NASDelay                  0\n",
       "SecurityDelay             0\n",
       "LateAircraftDelay         0\n",
       "dtype: int64"
      ]
     },
     "execution_count": 11,
     "metadata": {},
     "output_type": "execute_result"
    }
   ],
   "source": [
    "data.isna().sum()"
   ]
  },
  {
   "cell_type": "code",
   "execution_count": 12,
   "metadata": {},
   "outputs": [],
   "source": [
    "#Since there is no values for DepTime and ArrTime, we cannot assume any data. So, I am deleting all the rows with Nan\n",
    "data=data.dropna(axis=0)"
   ]
  },
  {
   "cell_type": "code",
   "execution_count": 13,
   "metadata": {},
   "outputs": [
    {
     "data": {
      "text/plain": [
       "(7275288, 27)"
      ]
     },
     "execution_count": 13,
     "metadata": {},
     "output_type": "execute_result"
    }
   ],
   "source": [
    "data.shape"
   ]
  },
  {
   "cell_type": "code",
   "execution_count": 14,
   "metadata": {},
   "outputs": [],
   "source": [
    "data.to_csv('datacleaned.csv')"
   ]
  },
  {
   "cell_type": "code",
   "execution_count": 15,
   "metadata": {},
   "outputs": [],
   "source": [
    "#Again removing the unnecessary data\n",
    "data=data.drop(['Year','DepTime','CRSDepTime','ArrTime','CRSArrTime','FlightNum','TailNum','ActualElapsedTime','CRSElapsedTime','AirTime','TaxiIn','TaxiOut','Diverted'],axis=1)"
   ]
  },
  {
   "cell_type": "code",
   "execution_count": 16,
   "metadata": {},
   "outputs": [
    {
     "data": {
      "text/html": [
       "<div>\n",
       "<style scoped>\n",
       "    .dataframe tbody tr th:only-of-type {\n",
       "        vertical-align: middle;\n",
       "    }\n",
       "\n",
       "    .dataframe tbody tr th {\n",
       "        vertical-align: top;\n",
       "    }\n",
       "\n",
       "    .dataframe thead th {\n",
       "        text-align: right;\n",
       "    }\n",
       "</style>\n",
       "<table border=\"1\" class=\"dataframe\">\n",
       "  <thead>\n",
       "    <tr style=\"text-align: right;\">\n",
       "      <th></th>\n",
       "      <th>Month</th>\n",
       "      <th>DayofMonth</th>\n",
       "      <th>DayOfWeek</th>\n",
       "      <th>UniqueCarrier</th>\n",
       "      <th>ArrDelay</th>\n",
       "      <th>DepDelay</th>\n",
       "      <th>Origin</th>\n",
       "      <th>Dest</th>\n",
       "      <th>Distance</th>\n",
       "      <th>CarrierDelay</th>\n",
       "      <th>WeatherDelay</th>\n",
       "      <th>NASDelay</th>\n",
       "      <th>SecurityDelay</th>\n",
       "      <th>LateAircraftDelay</th>\n",
       "    </tr>\n",
       "  </thead>\n",
       "  <tbody>\n",
       "    <tr>\n",
       "      <th>0</th>\n",
       "      <td>1</td>\n",
       "      <td>1</td>\n",
       "      <td>1</td>\n",
       "      <td>WN</td>\n",
       "      <td>1.0</td>\n",
       "      <td>7.0</td>\n",
       "      <td>SMF</td>\n",
       "      <td>ONT</td>\n",
       "      <td>389</td>\n",
       "      <td>0</td>\n",
       "      <td>0</td>\n",
       "      <td>0</td>\n",
       "      <td>0</td>\n",
       "      <td>0</td>\n",
       "    </tr>\n",
       "    <tr>\n",
       "      <th>1</th>\n",
       "      <td>1</td>\n",
       "      <td>1</td>\n",
       "      <td>1</td>\n",
       "      <td>WN</td>\n",
       "      <td>8.0</td>\n",
       "      <td>13.0</td>\n",
       "      <td>SMF</td>\n",
       "      <td>PDX</td>\n",
       "      <td>479</td>\n",
       "      <td>0</td>\n",
       "      <td>0</td>\n",
       "      <td>0</td>\n",
       "      <td>0</td>\n",
       "      <td>0</td>\n",
       "    </tr>\n",
       "    <tr>\n",
       "      <th>2</th>\n",
       "      <td>1</td>\n",
       "      <td>1</td>\n",
       "      <td>1</td>\n",
       "      <td>WN</td>\n",
       "      <td>34.0</td>\n",
       "      <td>36.0</td>\n",
       "      <td>SMF</td>\n",
       "      <td>PDX</td>\n",
       "      <td>479</td>\n",
       "      <td>3</td>\n",
       "      <td>0</td>\n",
       "      <td>0</td>\n",
       "      <td>0</td>\n",
       "      <td>31</td>\n",
       "    </tr>\n",
       "    <tr>\n",
       "      <th>3</th>\n",
       "      <td>1</td>\n",
       "      <td>1</td>\n",
       "      <td>1</td>\n",
       "      <td>WN</td>\n",
       "      <td>26.0</td>\n",
       "      <td>30.0</td>\n",
       "      <td>SMF</td>\n",
       "      <td>PDX</td>\n",
       "      <td>479</td>\n",
       "      <td>23</td>\n",
       "      <td>0</td>\n",
       "      <td>0</td>\n",
       "      <td>0</td>\n",
       "      <td>3</td>\n",
       "    </tr>\n",
       "    <tr>\n",
       "      <th>4</th>\n",
       "      <td>1</td>\n",
       "      <td>1</td>\n",
       "      <td>1</td>\n",
       "      <td>WN</td>\n",
       "      <td>-3.0</td>\n",
       "      <td>1.0</td>\n",
       "      <td>SMF</td>\n",
       "      <td>PDX</td>\n",
       "      <td>479</td>\n",
       "      <td>0</td>\n",
       "      <td>0</td>\n",
       "      <td>0</td>\n",
       "      <td>0</td>\n",
       "      <td>0</td>\n",
       "    </tr>\n",
       "  </tbody>\n",
       "</table>\n",
       "</div>"
      ],
      "text/plain": [
       "   Month  DayofMonth  DayOfWeek UniqueCarrier  ArrDelay  DepDelay Origin Dest  \\\n",
       "0      1           1          1            WN       1.0       7.0    SMF  ONT   \n",
       "1      1           1          1            WN       8.0      13.0    SMF  PDX   \n",
       "2      1           1          1            WN      34.0      36.0    SMF  PDX   \n",
       "3      1           1          1            WN      26.0      30.0    SMF  PDX   \n",
       "4      1           1          1            WN      -3.0       1.0    SMF  PDX   \n",
       "\n",
       "   Distance  CarrierDelay  WeatherDelay  NASDelay  SecurityDelay  \\\n",
       "0       389             0             0         0              0   \n",
       "1       479             0             0         0              0   \n",
       "2       479             3             0         0              0   \n",
       "3       479            23             0         0              0   \n",
       "4       479             0             0         0              0   \n",
       "\n",
       "   LateAircraftDelay  \n",
       "0                  0  \n",
       "1                  0  \n",
       "2                 31  \n",
       "3                  3  \n",
       "4                  0  "
      ]
     },
     "execution_count": 16,
     "metadata": {},
     "output_type": "execute_result"
    }
   ],
   "source": [
    "data.head()"
   ]
  },
  {
   "cell_type": "code",
   "execution_count": 17,
   "metadata": {},
   "outputs": [],
   "source": [
    "# creating a new column; To know whether the flight delayed or not\n",
    "delay=[]\n",
    "for row in data['ArrDelay']:\n",
    "  if row > 10:\n",
    "    delay.append(1)\n",
    "  else:\n",
    "    delay.append(0)  \n",
    "\n",
    "data['ArrivalDelayStatus'] = delay\n"
   ]
  },
  {
   "cell_type": "code",
   "execution_count": 18,
   "metadata": {},
   "outputs": [
    {
     "data": {
      "text/html": [
       "<div>\n",
       "<style scoped>\n",
       "    .dataframe tbody tr th:only-of-type {\n",
       "        vertical-align: middle;\n",
       "    }\n",
       "\n",
       "    .dataframe tbody tr th {\n",
       "        vertical-align: top;\n",
       "    }\n",
       "\n",
       "    .dataframe thead th {\n",
       "        text-align: right;\n",
       "    }\n",
       "</style>\n",
       "<table border=\"1\" class=\"dataframe\">\n",
       "  <thead>\n",
       "    <tr style=\"text-align: right;\">\n",
       "      <th></th>\n",
       "      <th>Month</th>\n",
       "      <th>DayofMonth</th>\n",
       "      <th>DayOfWeek</th>\n",
       "      <th>UniqueCarrier</th>\n",
       "      <th>ArrDelay</th>\n",
       "      <th>DepDelay</th>\n",
       "      <th>Origin</th>\n",
       "      <th>Dest</th>\n",
       "      <th>Distance</th>\n",
       "      <th>CarrierDelay</th>\n",
       "      <th>WeatherDelay</th>\n",
       "      <th>NASDelay</th>\n",
       "      <th>SecurityDelay</th>\n",
       "      <th>LateAircraftDelay</th>\n",
       "      <th>ArrivalDelayStatus</th>\n",
       "    </tr>\n",
       "  </thead>\n",
       "  <tbody>\n",
       "    <tr>\n",
       "      <th>0</th>\n",
       "      <td>1</td>\n",
       "      <td>1</td>\n",
       "      <td>1</td>\n",
       "      <td>WN</td>\n",
       "      <td>1.0</td>\n",
       "      <td>7.0</td>\n",
       "      <td>SMF</td>\n",
       "      <td>ONT</td>\n",
       "      <td>389</td>\n",
       "      <td>0</td>\n",
       "      <td>0</td>\n",
       "      <td>0</td>\n",
       "      <td>0</td>\n",
       "      <td>0</td>\n",
       "      <td>0</td>\n",
       "    </tr>\n",
       "    <tr>\n",
       "      <th>1</th>\n",
       "      <td>1</td>\n",
       "      <td>1</td>\n",
       "      <td>1</td>\n",
       "      <td>WN</td>\n",
       "      <td>8.0</td>\n",
       "      <td>13.0</td>\n",
       "      <td>SMF</td>\n",
       "      <td>PDX</td>\n",
       "      <td>479</td>\n",
       "      <td>0</td>\n",
       "      <td>0</td>\n",
       "      <td>0</td>\n",
       "      <td>0</td>\n",
       "      <td>0</td>\n",
       "      <td>0</td>\n",
       "    </tr>\n",
       "    <tr>\n",
       "      <th>2</th>\n",
       "      <td>1</td>\n",
       "      <td>1</td>\n",
       "      <td>1</td>\n",
       "      <td>WN</td>\n",
       "      <td>34.0</td>\n",
       "      <td>36.0</td>\n",
       "      <td>SMF</td>\n",
       "      <td>PDX</td>\n",
       "      <td>479</td>\n",
       "      <td>3</td>\n",
       "      <td>0</td>\n",
       "      <td>0</td>\n",
       "      <td>0</td>\n",
       "      <td>31</td>\n",
       "      <td>1</td>\n",
       "    </tr>\n",
       "    <tr>\n",
       "      <th>3</th>\n",
       "      <td>1</td>\n",
       "      <td>1</td>\n",
       "      <td>1</td>\n",
       "      <td>WN</td>\n",
       "      <td>26.0</td>\n",
       "      <td>30.0</td>\n",
       "      <td>SMF</td>\n",
       "      <td>PDX</td>\n",
       "      <td>479</td>\n",
       "      <td>23</td>\n",
       "      <td>0</td>\n",
       "      <td>0</td>\n",
       "      <td>0</td>\n",
       "      <td>3</td>\n",
       "      <td>1</td>\n",
       "    </tr>\n",
       "    <tr>\n",
       "      <th>4</th>\n",
       "      <td>1</td>\n",
       "      <td>1</td>\n",
       "      <td>1</td>\n",
       "      <td>WN</td>\n",
       "      <td>-3.0</td>\n",
       "      <td>1.0</td>\n",
       "      <td>SMF</td>\n",
       "      <td>PDX</td>\n",
       "      <td>479</td>\n",
       "      <td>0</td>\n",
       "      <td>0</td>\n",
       "      <td>0</td>\n",
       "      <td>0</td>\n",
       "      <td>0</td>\n",
       "      <td>0</td>\n",
       "    </tr>\n",
       "  </tbody>\n",
       "</table>\n",
       "</div>"
      ],
      "text/plain": [
       "   Month  DayofMonth  DayOfWeek UniqueCarrier  ArrDelay  DepDelay Origin Dest  \\\n",
       "0      1           1          1            WN       1.0       7.0    SMF  ONT   \n",
       "1      1           1          1            WN       8.0      13.0    SMF  PDX   \n",
       "2      1           1          1            WN      34.0      36.0    SMF  PDX   \n",
       "3      1           1          1            WN      26.0      30.0    SMF  PDX   \n",
       "4      1           1          1            WN      -3.0       1.0    SMF  PDX   \n",
       "\n",
       "   Distance  CarrierDelay  WeatherDelay  NASDelay  SecurityDelay  \\\n",
       "0       389             0             0         0              0   \n",
       "1       479             0             0         0              0   \n",
       "2       479             3             0         0              0   \n",
       "3       479            23             0         0              0   \n",
       "4       479             0             0         0              0   \n",
       "\n",
       "   LateAircraftDelay  ArrivalDelayStatus  \n",
       "0                  0                   0  \n",
       "1                  0                   0  \n",
       "2                 31                   1  \n",
       "3                  3                   1  \n",
       "4                  0                   0  "
      ]
     },
     "execution_count": 18,
     "metadata": {},
     "output_type": "execute_result"
    }
   ],
   "source": [
    "data.head()"
   ]
  },
  {
   "cell_type": "code",
   "execution_count": 19,
   "metadata": {},
   "outputs": [],
   "source": [
    "data.to_csv('datacleanedstatus.csv')"
   ]
  },
  {
   "cell_type": "code",
   "execution_count": 20,
   "metadata": {},
   "outputs": [
    {
     "data": {
      "image/png": "[encoded data removed]",
      "text/plain": [
       "<Figure size 720x1008 with 1 Axes>"
      ]
     },
     "metadata": {},
     "output_type": "display_data"
    }
   ],
   "source": [
    "import matplotlib.pyplot as plt\n",
    "import seaborn as sns\n",
    "     \n",
    "\n",
    "axis = plt.subplots(figsize=(10,14))\n",
    "Name = data[\"UniqueCarrier\"].unique()\n",
    "size = data[\"UniqueCarrier\"].value_counts()\n",
    "plt.pie(size,labels=Name,autopct='%5.0f%%')\n",
    "plt.show()\n",
    "     \n"
   ]
  },
  {
   "cell_type": "code",
   "execution_count": 21,
   "metadata": {},
   "outputs": [
    {
     "data": {
      "text/plain": [
       "<matplotlib.axes._subplots.AxesSubplot at 0x7fa5e60c20d0>"
      ]
     },
     "execution_count": 21,
     "metadata": {},
     "output_type": "execute_result"
    },
    {
     "data": {
      "image/png": "[encoded data removed]",
      "text/plain": [
       "<Figure size 432x288 with 1 Axes>"
      ]
     },
     "metadata": {
      "needs_background": "light"
     },
     "output_type": "display_data"
    }
   ],
   "source": [
    "sns.countplot(x=\"DayOfWeek\",hue=\"ArrivalDelayStatus\",data=data)"
   ]
  },
  {
   "cell_type": "code",
   "execution_count": 22,
   "metadata": {},
   "outputs": [
    {
     "data": {
      "image/png": "[encoded data removed]",
      "text/plain": [
       "<Figure size 432x288 with 2 Axes>"
      ]
     },
     "metadata": {
      "needs_background": "light"
     },
     "output_type": "display_data"
    }
   ],
   "source": [
    "correlations_matrix = data.corr()\n",
    "sns.heatmap(correlations_matrix, annot=False)\n",
    "plt.show()"
   ]
  },
  {
   "cell_type": "code",
   "execution_count": 23,
   "metadata": {},
   "outputs": [
    {
     "data": {
      "text/html": [
       "<div>\n",
       "<style scoped>\n",
       "    .dataframe tbody tr th:only-of-type {\n",
       "        vertical-align: middle;\n",
       "    }\n",
       "\n",
       "    .dataframe tbody tr th {\n",
       "        vertical-align: top;\n",
       "    }\n",
       "\n",
       "    .dataframe thead th {\n",
       "        text-align: right;\n",
       "    }\n",
       "</style>\n",
       "<table border=\"1\" class=\"dataframe\">\n",
       "  <thead>\n",
       "    <tr style=\"text-align: right;\">\n",
       "      <th></th>\n",
       "      <th>Month</th>\n",
       "      <th>DayofMonth</th>\n",
       "      <th>DayOfWeek</th>\n",
       "      <th>ArrDelay</th>\n",
       "      <th>DepDelay</th>\n",
       "      <th>Distance</th>\n",
       "      <th>CarrierDelay</th>\n",
       "      <th>WeatherDelay</th>\n",
       "      <th>NASDelay</th>\n",
       "      <th>SecurityDelay</th>\n",
       "      <th>LateAircraftDelay</th>\n",
       "      <th>ArrivalDelayStatus</th>\n",
       "    </tr>\n",
       "  </thead>\n",
       "  <tbody>\n",
       "    <tr>\n",
       "      <th>Month</th>\n",
       "      <td>1.000000</td>\n",
       "      <td>0.010899</td>\n",
       "      <td>0.014225</td>\n",
       "      <td>-0.009981</td>\n",
       "      <td>-0.008126</td>\n",
       "      <td>0.004832</td>\n",
       "      <td>-0.001906</td>\n",
       "      <td>-0.006156</td>\n",
       "      <td>-0.000016</td>\n",
       "      <td>-0.000127</td>\n",
       "      <td>-0.006276</td>\n",
       "      <td>-0.011498</td>\n",
       "    </tr>\n",
       "    <tr>\n",
       "      <th>DayofMonth</th>\n",
       "      <td>0.010899</td>\n",
       "      <td>1.000000</td>\n",
       "      <td>-0.005743</td>\n",
       "      <td>0.016101</td>\n",
       "      <td>0.015818</td>\n",
       "      <td>0.000782</td>\n",
       "      <td>0.006897</td>\n",
       "      <td>0.004856</td>\n",
       "      <td>0.004003</td>\n",
       "      <td>0.001123</td>\n",
       "      <td>0.012888</td>\n",
       "      <td>0.013828</td>\n",
       "    </tr>\n",
       "    <tr>\n",
       "      <th>DayOfWeek</th>\n",
       "      <td>0.014225</td>\n",
       "      <td>-0.005743</td>\n",
       "      <td>1.000000</td>\n",
       "      <td>-0.002110</td>\n",
       "      <td>0.005875</td>\n",
       "      <td>0.013718</td>\n",
       "      <td>0.009550</td>\n",
       "      <td>-0.000458</td>\n",
       "      <td>-0.012520</td>\n",
       "      <td>0.002799</td>\n",
       "      <td>-0.000251</td>\n",
       "      <td>0.002446</td>\n",
       "    </tr>\n",
       "    <tr>\n",
       "      <th>ArrDelay</th>\n",
       "      <td>-0.009981</td>\n",
       "      <td>0.016101</td>\n",
       "      <td>-0.002110</td>\n",
       "      <td>1.000000</td>\n",
       "      <td>0.931503</td>\n",
       "      <td>-0.001717</td>\n",
       "      <td>0.569985</td>\n",
       "      <td>0.284733</td>\n",
       "      <td>0.491124</td>\n",
       "      <td>0.030310</td>\n",
       "      <td>0.611300</td>\n",
       "      <td>0.640364</td>\n",
       "    </tr>\n",
       "    <tr>\n",
       "      <th>DepDelay</th>\n",
       "      <td>-0.008126</td>\n",
       "      <td>0.015818</td>\n",
       "      <td>0.005875</td>\n",
       "      <td>0.931503</td>\n",
       "      <td>1.000000</td>\n",
       "      <td>0.017428</td>\n",
       "      <td>0.604154</td>\n",
       "      <td>0.281525</td>\n",
       "      <td>0.322382</td>\n",
       "      <td>0.030301</td>\n",
       "      <td>0.648730</td>\n",
       "      <td>0.538311</td>\n",
       "    </tr>\n",
       "    <tr>\n",
       "      <th>Distance</th>\n",
       "      <td>0.004832</td>\n",
       "      <td>0.000782</td>\n",
       "      <td>0.013718</td>\n",
       "      <td>-0.001717</td>\n",
       "      <td>0.017428</td>\n",
       "      <td>1.000000</td>\n",
       "      <td>0.009557</td>\n",
       "      <td>-0.009071</td>\n",
       "      <td>0.033570</td>\n",
       "      <td>0.004347</td>\n",
       "      <td>-0.004530</td>\n",
       "      <td>0.034180</td>\n",
       "    </tr>\n",
       "    <tr>\n",
       "      <th>CarrierDelay</th>\n",
       "      <td>-0.001906</td>\n",
       "      <td>0.006897</td>\n",
       "      <td>0.009550</td>\n",
       "      <td>0.569985</td>\n",
       "      <td>0.604154</td>\n",
       "      <td>0.009557</td>\n",
       "      <td>1.000000</td>\n",
       "      <td>-0.009656</td>\n",
       "      <td>0.018406</td>\n",
       "      <td>-0.003159</td>\n",
       "      <td>0.019658</td>\n",
       "      <td>0.292392</td>\n",
       "    </tr>\n",
       "    <tr>\n",
       "      <th>WeatherDelay</th>\n",
       "      <td>-0.006156</td>\n",
       "      <td>0.004856</td>\n",
       "      <td>-0.000458</td>\n",
       "      <td>0.284733</td>\n",
       "      <td>0.281525</td>\n",
       "      <td>-0.009071</td>\n",
       "      <td>-0.009656</td>\n",
       "      <td>1.000000</td>\n",
       "      <td>0.047096</td>\n",
       "      <td>-0.001637</td>\n",
       "      <td>0.027558</td>\n",
       "      <td>0.126176</td>\n",
       "    </tr>\n",
       "    <tr>\n",
       "      <th>NASDelay</th>\n",
       "      <td>-0.000016</td>\n",
       "      <td>0.004003</td>\n",
       "      <td>-0.012520</td>\n",
       "      <td>0.491124</td>\n",
       "      <td>0.322382</td>\n",
       "      <td>0.033570</td>\n",
       "      <td>0.018406</td>\n",
       "      <td>0.047096</td>\n",
       "      <td>1.000000</td>\n",
       "      <td>0.002301</td>\n",
       "      <td>0.056755</td>\n",
       "      <td>0.368869</td>\n",
       "    </tr>\n",
       "    <tr>\n",
       "      <th>SecurityDelay</th>\n",
       "      <td>-0.000127</td>\n",
       "      <td>0.001123</td>\n",
       "      <td>0.002799</td>\n",
       "      <td>0.030310</td>\n",
       "      <td>0.030301</td>\n",
       "      <td>0.004347</td>\n",
       "      <td>-0.003159</td>\n",
       "      <td>-0.001637</td>\n",
       "      <td>0.002301</td>\n",
       "      <td>1.000000</td>\n",
       "      <td>0.002631</td>\n",
       "      <td>0.034477</td>\n",
       "    </tr>\n",
       "    <tr>\n",
       "      <th>LateAircraftDelay</th>\n",
       "      <td>-0.006276</td>\n",
       "      <td>0.012888</td>\n",
       "      <td>-0.000251</td>\n",
       "      <td>0.611300</td>\n",
       "      <td>0.648730</td>\n",
       "      <td>-0.004530</td>\n",
       "      <td>0.019658</td>\n",
       "      <td>0.027558</td>\n",
       "      <td>0.056755</td>\n",
       "      <td>0.002631</td>\n",
       "      <td>1.000000</td>\n",
       "      <td>0.377950</td>\n",
       "    </tr>\n",
       "    <tr>\n",
       "      <th>ArrivalDelayStatus</th>\n",
       "      <td>-0.011498</td>\n",
       "      <td>0.013828</td>\n",
       "      <td>0.002446</td>\n",
       "      <td>0.640364</td>\n",
       "      <td>0.538311</td>\n",
       "      <td>0.034180</td>\n",
       "      <td>0.292392</td>\n",
       "      <td>0.126176</td>\n",
       "      <td>0.368869</td>\n",
       "      <td>0.034477</td>\n",
       "      <td>0.377950</td>\n",
       "      <td>1.000000</td>\n",
       "    </tr>\n",
       "  </tbody>\n",
       "</table>\n",
       "</div>"
      ],
      "text/plain": [
       "                       Month  DayofMonth  DayOfWeek  ArrDelay  DepDelay  \\\n",
       "Month               1.000000    0.010899   0.014225 -0.009981 -0.008126   \n",
       "DayofMonth          0.010899    1.000000  -0.005743  0.016101  0.015818   \n",
       "DayOfWeek           0.014225   -0.005743   1.000000 -0.002110  0.005875   \n",
       "ArrDelay           -0.009981    0.016101  -0.002110  1.000000  0.931503   \n",
       "DepDelay           -0.008126    0.015818   0.005875  0.931503  1.000000   \n",
       "Distance            0.004832    0.000782   0.013718 -0.001717  0.017428   \n",
       "CarrierDelay       -0.001906    0.006897   0.009550  0.569985  0.604154   \n",
       "WeatherDelay       -0.006156    0.004856  -0.000458  0.284733  0.281525   \n",
       "NASDelay           -0.000016    0.004003  -0.012520  0.491124  0.322382   \n",
       "SecurityDelay      -0.000127    0.001123   0.002799  0.030310  0.030301   \n",
       "LateAircraftDelay  -0.006276    0.012888  -0.000251  0.611300  0.648730   \n",
       "ArrivalDelayStatus -0.011498    0.013828   0.002446  0.640364  0.538311   \n",
       "\n",
       "                    Distance  CarrierDelay  WeatherDelay  NASDelay  \\\n",
       "Month               0.004832     -0.001906     -0.006156 -0.000016   \n",
       "DayofMonth          0.000782      0.006897      0.004856  0.004003   \n",
       "DayOfWeek           0.013718      0.009550     -0.000458 -0.012520   \n",
       "ArrDelay           -0.001717      0.569985      0.284733  0.491124   \n",
       "DepDelay            0.017428      0.604154      0.281525  0.322382   \n",
       "Distance            1.000000      0.009557     -0.009071  0.033570   \n",
       "CarrierDelay        0.009557      1.000000     -0.009656  0.018406   \n",
       "WeatherDelay       -0.009071     -0.009656      1.000000  0.047096   \n",
       "NASDelay            0.033570      0.018406      0.047096  1.000000   \n",
       "SecurityDelay       0.004347     -0.003159     -0.001637  0.002301   \n",
       "LateAircraftDelay  -0.004530      0.019658      0.027558  0.056755   \n",
       "ArrivalDelayStatus  0.034180      0.292392      0.126176  0.368869   \n",
       "\n",
       "                    SecurityDelay  LateAircraftDelay  ArrivalDelayStatus  \n",
       "Month                   -0.000127          -0.006276           -0.011498  \n",
       "DayofMonth               0.001123           0.012888            0.013828  \n",
       "DayOfWeek                0.002799          -0.000251            0.002446  \n",
       "ArrDelay                 0.030310           0.611300            0.640364  \n",
       "DepDelay                 0.030301           0.648730            0.538311  \n",
       "Distance                 0.004347          -0.004530            0.034180  \n",
       "CarrierDelay            -0.003159           0.019658            0.292392  \n",
       "WeatherDelay            -0.001637           0.027558            0.126176  \n",
       "NASDelay                 0.002301           0.056755            0.368869  \n",
       "SecurityDelay            1.000000           0.002631            0.034477  \n",
       "LateAircraftDelay        0.002631           1.000000            0.377950  \n",
       "ArrivalDelayStatus       0.034477           0.377950            1.000000  "
      ]
     },
     "execution_count": 23,
     "metadata": {},
     "output_type": "execute_result"
    }
   ],
   "source": [
    "correlations_matrix"
   ]
  },
  {
   "cell_type": "code",
   "execution_count": 24,
   "metadata": {},
   "outputs": [],
   "source": [
    "#From the correlation heatmap above, the Dep Delay and Arr Delay are highly correlated. So one of the columns can be further deleted.\n",
    "data=data.drop(['DepDelay'],axis=1)"
   ]
  },
  {
   "cell_type": "code",
   "execution_count": 25,
   "metadata": {},
   "outputs": [
    {
     "data": {
      "text/plain": [
       "(7275288, 14)"
      ]
     },
     "execution_count": 25,
     "metadata": {},
     "output_type": "execute_result"
    }
   ],
   "source": [
    "data.shape"
   ]
  },
  {
   "cell_type": "markdown",
   "metadata": {},
   "source": [
    "## Logistics Regression"
   ]
  },
  {
   "cell_type": "code",
   "execution_count": 26,
   "metadata": {},
   "outputs": [],
   "source": [
    "y = data['ArrivalDelayStatus']\n",
    "X = data.drop(['ArrivalDelayStatus','DayofMonth','Origin','Dest','UniqueCarrier'], axis=1)\n"
   ]
  },
  {
   "cell_type": "code",
   "execution_count": 27,
   "metadata": {},
   "outputs": [],
   "source": [
    "#Test Train Split\n",
    "from sklearn.model_selection import train_test_split\n",
    "X_train, X_test, y_train, y_test = train_test_split(X, y, test_size=0.2, random_state=167)"
   ]
  },
  {
   "cell_type": "code",
   "execution_count": 28,
   "metadata": {},
   "outputs": [
    {
     "data": {
      "text/html": [
       "<div>\n",
       "<style scoped>\n",
       "    .dataframe tbody tr th:only-of-type {\n",
       "        vertical-align: middle;\n",
       "    }\n",
       "\n",
       "    .dataframe tbody tr th {\n",
       "        vertical-align: top;\n",
       "    }\n",
       "\n",
       "    .dataframe thead th {\n",
       "        text-align: right;\n",
       "    }\n",
       "</style>\n",
       "<table border=\"1\" class=\"dataframe\">\n",
       "  <thead>\n",
       "    <tr style=\"text-align: right;\">\n",
       "      <th></th>\n",
       "      <th>Month</th>\n",
       "      <th>DayOfWeek</th>\n",
       "      <th>ArrDelay</th>\n",
       "      <th>Distance</th>\n",
       "      <th>CarrierDelay</th>\n",
       "      <th>WeatherDelay</th>\n",
       "      <th>NASDelay</th>\n",
       "      <th>SecurityDelay</th>\n",
       "      <th>LateAircraftDelay</th>\n",
       "    </tr>\n",
       "  </thead>\n",
       "  <tbody>\n",
       "    <tr>\n",
       "      <th>0</th>\n",
       "      <td>0.454545</td>\n",
       "      <td>0.000000</td>\n",
       "      <td>0.103093</td>\n",
       "      <td>0.086245</td>\n",
       "      <td>0.0</td>\n",
       "      <td>0.0</td>\n",
       "      <td>0.0</td>\n",
       "      <td>0.0</td>\n",
       "      <td>0.0</td>\n",
       "    </tr>\n",
       "    <tr>\n",
       "      <th>1</th>\n",
       "      <td>0.181818</td>\n",
       "      <td>0.666667</td>\n",
       "      <td>0.110997</td>\n",
       "      <td>0.118158</td>\n",
       "      <td>0.0</td>\n",
       "      <td>0.0</td>\n",
       "      <td>0.0</td>\n",
       "      <td>0.0</td>\n",
       "      <td>0.0</td>\n",
       "    </tr>\n",
       "    <tr>\n",
       "      <th>2</th>\n",
       "      <td>0.818182</td>\n",
       "      <td>0.333333</td>\n",
       "      <td>0.104467</td>\n",
       "      <td>0.288225</td>\n",
       "      <td>0.0</td>\n",
       "      <td>0.0</td>\n",
       "      <td>0.0</td>\n",
       "      <td>0.0</td>\n",
       "      <td>0.0</td>\n",
       "    </tr>\n",
       "    <tr>\n",
       "      <th>3</th>\n",
       "      <td>0.909091</td>\n",
       "      <td>0.333333</td>\n",
       "      <td>0.110653</td>\n",
       "      <td>0.022420</td>\n",
       "      <td>0.0</td>\n",
       "      <td>0.0</td>\n",
       "      <td>0.0</td>\n",
       "      <td>0.0</td>\n",
       "      <td>0.0</td>\n",
       "    </tr>\n",
       "    <tr>\n",
       "      <th>4</th>\n",
       "      <td>0.818182</td>\n",
       "      <td>0.833333</td>\n",
       "      <td>0.101031</td>\n",
       "      <td>0.366391</td>\n",
       "      <td>0.0</td>\n",
       "      <td>0.0</td>\n",
       "      <td>0.0</td>\n",
       "      <td>0.0</td>\n",
       "      <td>0.0</td>\n",
       "    </tr>\n",
       "  </tbody>\n",
       "</table>\n",
       "</div>"
      ],
      "text/plain": [
       "      Month  DayOfWeek  ArrDelay  Distance  CarrierDelay  WeatherDelay  \\\n",
       "0  0.454545   0.000000  0.103093  0.086245           0.0           0.0   \n",
       "1  0.181818   0.666667  0.110997  0.118158           0.0           0.0   \n",
       "2  0.818182   0.333333  0.104467  0.288225           0.0           0.0   \n",
       "3  0.909091   0.333333  0.110653  0.022420           0.0           0.0   \n",
       "4  0.818182   0.833333  0.101031  0.366391           0.0           0.0   \n",
       "\n",
       "   NASDelay  SecurityDelay  LateAircraftDelay  \n",
       "0       0.0            0.0                0.0  \n",
       "1       0.0            0.0                0.0  \n",
       "2       0.0            0.0                0.0  \n",
       "3       0.0            0.0                0.0  \n",
       "4       0.0            0.0                0.0  "
      ]
     },
     "execution_count": 28,
     "metadata": {},
     "output_type": "execute_result"
    }
   ],
   "source": [
    "from sklearn.preprocessing import MinMaxScaler\n",
    "\n",
    "# Scaling the data using Minmaxscaler\n",
    "transformer = MinMaxScaler().fit(X_train)# need to keep transformer\n",
    "X_train_normalized = transformer.transform(X_train)\n",
    "X_train_norm = pd.DataFrame(X_train_normalized)\n",
    "X_train_norm.columns = X_train.columns\n",
    "X_train_norm.head()"
   ]
  },
  {
   "cell_type": "code",
   "execution_count": 30,
   "metadata": {},
   "outputs": [
    {
     "name": "stderr",
     "output_type": "stream",
     "text": [
      "/Users/jasper/opt/anaconda3/lib/python3.8/site-packages/sklearn/linear_model/_logistic.py:444: ConvergenceWarning: lbfgs failed to converge (status=1):\n",
      "STOP: TOTAL NO. of ITERATIONS REACHED LIMIT.\n",
      "\n",
      "Increase the number of iterations (max_iter) or scale the data as shown in:\n",
      "    https://scikit-learn.org/stable/modules/preprocessing.html\n",
      "Please also refer to the documentation for alternative solver options:\n",
      "    https://scikit-learn.org/stable/modules/linear_model.html#logistic-regression\n",
      "  n_iter_i = _check_optimize_result(\n"
     ]
    }
   ],
   "source": [
    "# Modeling the training set\n",
    "from sklearn.linear_model import LogisticRegression\n",
    "classification = LogisticRegression(random_state=0, solver='lbfgs',\n",
    "                  multi_class='auto').fit(X_train_norm, y_train) "
   ]
  },
  {
   "cell_type": "code",
   "execution_count": 31,
   "metadata": {},
   "outputs": [],
   "source": [
    "#Scaling the X test\n",
    "X_test_normalized = transformer.transform(X_test)\n",
    "X_test_norm = pd.DataFrame(X_test_normalized)\n"
   ]
  },
  {
   "cell_type": "code",
   "execution_count": 33,
   "metadata": {},
   "outputs": [
    {
     "name": "stderr",
     "output_type": "stream",
     "text": [
      "/Users/jasper/opt/anaconda3/lib/python3.8/site-packages/sklearn/base.py:450: UserWarning: X does not have valid feature names, but LogisticRegression was fitted with feature names\n",
      "  warnings.warn(\n",
      "/Users/jasper/opt/anaconda3/lib/python3.8/site-packages/sklearn/base.py:450: UserWarning: X does not have valid feature names, but LogisticRegression was fitted with feature names\n",
      "  warnings.warn(\n"
     ]
    },
    {
     "data": {
      "text/plain": [
       "0.675"
      ]
     },
     "execution_count": 33,
     "metadata": {},
     "output_type": "execute_result"
    }
   ],
   "source": [
    "# Predictions\n",
    "predictions = classification.predict(X_test_norm)\n",
    "classification.score(X_test_norm, y_test)\n",
    "0.675"
   ]
  },
  {
   "cell_type": "code",
   "execution_count": null,
   "metadata": {},
   "outputs": [],
   "source": []
  }
 ],
 "metadata": {
  "kernelspec": {
   "display_name": "Python 3",
   "language": "python",
   "name": "python3"
  },
  "language_info": {
   "codemirror_mode": {
    "name": "ipython",
    "version": 3
   },
   "file_extension": ".py",
   "mimetype": "text/x-python",
   "name": "python",
   "nbconvert_exporter": "python",
   "pygments_lexer": "ipython3",
   "version": "3.8.3"
  }
 },
 "nbformat": 4,
 "nbformat_minor": 4
}
